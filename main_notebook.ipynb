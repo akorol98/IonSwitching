{
 "cells": [
  {
   "cell_type": "code",
   "execution_count": 1,
   "metadata": {},
   "outputs": [],
   "source": [
    "import pandas as pd\n",
    "import numpy as np\n",
    "import torch\n",
    "from torch.utils.data import Dataset, DataLoader\n",
    "import matplotlib.pyplot as plt"
   ]
  },
  {
   "cell_type": "code",
   "execution_count": 45,
   "metadata": {},
   "outputs": [],
   "source": [
    "workers = 40\n",
    "btch_sz = 2000\n",
    "ngpu = 1"
   ]
  },
  {
   "cell_type": "code",
   "execution_count": 46,
   "metadata": {},
   "outputs": [
    {
     "name": "stdout",
     "output_type": "stream",
     "text": [
      "cuda:0\n"
     ]
    }
   ],
   "source": [
    "cuda = True if torch.cuda.is_available() else False\n",
    "FloatTensor = torch.cuda.FloatTensor if cuda else torch.FloatTensor\n",
    "device = torch.device(\"cuda:0\" if torch.cuda.is_available() else \"cpu\")\n",
    "print(device)"
   ]
  },
  {
   "cell_type": "markdown",
   "metadata": {},
   "source": [
    "# Data Preprocessing"
   ]
  },
  {
   "cell_type": "code",
   "execution_count": 9,
   "metadata": {},
   "outputs": [],
   "source": [
    "def preproc(file, file_to_save):\n",
    "    data = pd.read_csv(file)\n",
    "    \n",
    "    signal = torch.tensor(data.signal.values)\n",
    "    signal = 2*(signal-signal.min())/signal.max()-1\n",
    "    \n",
    "    data.signal = signal\n",
    "    \n",
    "    data.to_csv(file_to_save, index=False)\n",
    "\n",
    "# preproc('data/train.csv', 'data/train_new.csv')\n",
    "# preproc('data/test.csv', 'data/test_new.csv')"
   ]
  },
  {
   "cell_type": "markdown",
   "metadata": {},
   "source": [
    "# Format Dataloaders"
   ]
  },
  {
   "cell_type": "code",
   "execution_count": 47,
   "metadata": {},
   "outputs": [],
   "source": [
    "from dataUtils.CustomDataset import IonSwitchingDataset\n",
    "\n",
    "ion_dataset_train = IonSwitchingDataset('data/train_new.csv', window_size=10000, slice_ratio=0.5)\n",
    "ion_dataset_test = IonSwitchingDataset('data/test_new.csv', window_size=10000, slice_ratio=0.5, train=False)"
   ]
  },
  {
   "cell_type": "code",
   "execution_count": 48,
   "metadata": {},
   "outputs": [],
   "source": [
    "dataloader = DataLoader(ion_dataset_train, batch_size=btch_sz, shuffle=True, num_workers=workers)\n",
    "dataloader_test = DataLoader(ion_dataset_test, batch_size=btch_sz, shuffle=False, num_workers=workers)"
   ]
  },
  {
   "cell_type": "code",
   "execution_count": 49,
   "metadata": {},
   "outputs": [],
   "source": [
    "batch = next(iter(dataloader))"
   ]
  },
  {
   "cell_type": "code",
   "execution_count": 50,
   "metadata": {},
   "outputs": [
    {
     "data": {
      "text/plain": [
       "(torch.Size([2000, 10000]), torch.Size([2000, 11]))"
      ]
     },
     "execution_count": 50,
     "metadata": {},
     "output_type": "execute_result"
    }
   ],
   "source": [
    "batch['signal'].shape, batch['open_channels'].shape"
   ]
  },
  {
   "cell_type": "code",
   "execution_count": 51,
   "metadata": {},
   "outputs": [
    {
     "data": {
      "image/png": "[encoded data removed]",
      "text/plain": [
       "<Figure size 432x288 with 1 Axes>"
      ]
     },
     "metadata": {
      "needs_background": "light"
     },
     "output_type": "display_data"
    }
   ],
   "source": [
    "plt.plot(batch['signal'][0])\n",
    "plt.plot(batch['signal'][1])\n",
    "plt.plot(batch['signal'][2])\n",
    "plt.show()"
   ]
  },
  {
   "cell_type": "markdown",
   "metadata": {},
   "source": [
    "# Load Model"
   ]
  },
  {
   "cell_type": "code",
   "execution_count": 52,
   "metadata": {},
   "outputs": [
    {
     "name": "stdout",
     "output_type": "stream",
     "text": [
      "126648843\n"
     ]
    },
    {
     "data": {
      "text/plain": [
       "OpenChannelsClassifier(\n",
       "  (fc): Sequential(\n",
       "    (0): Linear(in_features=10000, out_features=8192, bias=True)\n",
       "    (1): LeakyReLU(negative_slope=0.01)\n",
       "    (2): Dropout(p=0.5, inplace=False)\n",
       "    (3): Linear(in_features=8192, out_features=4096, bias=True)\n",
       "    (4): LeakyReLU(negative_slope=0.01)\n",
       "    (5): Dropout(p=0.5, inplace=False)\n",
       "    (6): Linear(in_features=4096, out_features=2048, bias=True)\n",
       "    (7): LeakyReLU(negative_slope=0.01)\n",
       "    (8): Dropout(p=0.5, inplace=False)\n",
       "    (9): Linear(in_features=2048, out_features=1024, bias=True)\n",
       "    (10): LeakyReLU(negative_slope=0.01)\n",
       "    (11): Dropout(p=0.5, inplace=False)\n",
       "    (12): Linear(in_features=1024, out_features=512, bias=True)\n",
       "    (13): LeakyReLU(negative_slope=0.01)\n",
       "    (14): Dropout(p=0.5, inplace=False)\n",
       "    (15): Linear(in_features=512, out_features=256, bias=True)\n",
       "    (16): LeakyReLU(negative_slope=0.01)\n",
       "    (17): Dropout(p=0.5, inplace=False)\n",
       "    (18): Linear(in_features=256, out_features=64, bias=True)\n",
       "    (19): LeakyReLU(negative_slope=0.01)\n",
       "    (20): Dropout(p=0.5, inplace=False)\n",
       "    (21): Linear(in_features=64, out_features=11, bias=True)\n",
       "  )\n",
       ")"
      ]
     },
     "execution_count": 52,
     "metadata": {},
     "output_type": "execute_result"
    }
   ],
   "source": [
    "import models.FCC as FCC\n",
    "\n",
    "model = FCC.OpenChannelsClassifier(1)\n",
    "model.apply(FCC.weights_init)\n",
    "print(sum(p.numel() for p in model.parameters()))\n",
    "model.to(device)"
   ]
  },
  {
   "cell_type": "code",
   "execution_count": 53,
   "metadata": {
    "scrolled": false
   },
   "outputs": [
    {
     "data": {
      "text/plain": [
       "torch.Size([2000, 11])"
      ]
     },
     "execution_count": 53,
     "metadata": {},
     "output_type": "execute_result"
    }
   ],
   "source": [
    "model(batch['signal'].to(device).float()).shape"
   ]
  },
  {
   "cell_type": "markdown",
   "metadata": {},
   "source": [
    "# Optimirez and Criterion Loss"
   ]
  },
  {
   "cell_type": "code",
   "execution_count": 54,
   "metadata": {},
   "outputs": [],
   "source": [
    "criterion = nn.CrossEntropyLoss()\n",
    "optimizer = torch.optim.Adam(model.parameters())"
   ]
  },
  {
   "cell_type": "code",
   "execution_count": 55,
   "metadata": {},
   "outputs": [],
   "source": [
    "train_losses = np.array([])\n",
    "train_accurasy = np.array([])"
   ]
  },
  {
   "cell_type": "markdown",
   "metadata": {},
   "source": [
    "# Training Loop"
   ]
  },
  {
   "cell_type": "code",
   "execution_count": 56,
   "metadata": {
    "scrolled": false
   },
   "outputs": [
    {
     "name": "stdout",
     "output_type": "stream",
     "text": [
      "[0/1] [29/2500], loss: 1.8557, accyrasy: 0.303\n",
      "[0/1] [59/2500], loss: 1.7152, accyrasy: 0.3275\n",
      "[0/1] [89/2500], loss: 1.6993, accyrasy: 0.322\n",
      "[0/1] [119/2500], loss: 1.6871, accyrasy: 0.3455\n",
      "[0/1] [149/2500], loss: 1.6901, accyrasy: 0.3355\n",
      "[0/1] [179/2500], loss: 1.6784, accyrasy: 0.3335\n",
      "[0/1] [209/2500], loss: 1.6697, accyrasy: 0.339\n",
      "[0/1] [239/2500], loss: 1.6571, accyrasy: 0.3195\n",
      "[0/1] [269/2500], loss: 1.6496, accyrasy: 0.332\n",
      "[0/1] [299/2500], loss: 1.6284, accyrasy: 0.3185\n",
      "[0/1] [329/2500], loss: 1.6687, accyrasy: 0.2325\n",
      "[0/1] [359/2500], loss: 1.6558, accyrasy: 0.3365\n",
      "[0/1] [389/2500], loss: 1.6262, accyrasy: 0.321\n",
      "[0/1] [419/2500], loss: 1.61, accyrasy: 0.356\n",
      "[0/1] [449/2500], loss: 1.5983, accyrasy: 0.3745\n",
      "[0/1] [479/2500], loss: 1.6435, accyrasy: 0.3495\n",
      "[0/1] [509/2500], loss: 1.6125, accyrasy: 0.33\n",
      "[0/1] [539/2500], loss: 1.6013, accyrasy: 0.3705\n",
      "[0/1] [569/2500], loss: 1.5859, accyrasy: 0.3405\n",
      "[0/1] [599/2500], loss: 1.6354, accyrasy: 0.3505\n",
      "[0/1] [629/2500], loss: 1.6264, accyrasy: 0.3395\n",
      "[0/1] [659/2500], loss: 1.5952, accyrasy: 0.358\n",
      "[0/1] [689/2500], loss: 1.5805, accyrasy: 0.3335\n",
      "[0/1] [719/2500], loss: 1.5761, accyrasy: 0.3545\n",
      "[0/1] [749/2500], loss: 1.5638, accyrasy: 0.3595\n",
      "[0/1] [779/2500], loss: 1.5602, accyrasy: 0.323\n",
      "[0/1] [809/2500], loss: 1.5733, accyrasy: 0.362\n",
      "[0/1] [839/2500], loss: 1.5537, accyrasy: 0.385\n",
      "[0/1] [869/2500], loss: 1.5415, accyrasy: 0.36\n",
      "[0/1] [899/2500], loss: 1.5414, accyrasy: 0.36\n",
      "[0/1] [929/2500], loss: 1.5367, accyrasy: 0.3665\n",
      "[0/1] [959/2500], loss: 1.5228, accyrasy: 0.374\n",
      "[0/1] [989/2500], loss: 1.5215, accyrasy: 0.366\n",
      "[0/1] [1019/2500], loss: 1.5574, accyrasy: 0.3615\n",
      "[0/1] [1049/2500], loss: 1.5231, accyrasy: 0.3615\n",
      "[0/1] [1079/2500], loss: 1.5072, accyrasy: 0.3935\n",
      "[0/1] [1109/2500], loss: 1.5313, accyrasy: 0.3935\n",
      "[0/1] [1139/2500], loss: 1.5015, accyrasy: 0.377\n",
      "[0/1] [1169/2500], loss: 1.4819, accyrasy: 0.38\n",
      "[0/1] [1199/2500], loss: 1.5078, accyrasy: 0.3825\n",
      "[0/1] [1229/2500], loss: 1.4746, accyrasy: 0.3935\n",
      "[0/1] [1259/2500], loss: 1.4892, accyrasy: 0.397\n",
      "[0/1] [1289/2500], loss: 1.4998, accyrasy: 0.377\n",
      "[0/1] [1319/2500], loss: 1.492, accyrasy: 0.39\n",
      "[0/1] [1349/2500], loss: 1.4571, accyrasy: 0.415\n",
      "[0/1] [1379/2500], loss: 1.5138, accyrasy: 0.368\n",
      "[0/1] [1409/2500], loss: 1.6571, accyrasy: 0.3325\n",
      "[0/1] [1439/2500], loss: 1.6047, accyrasy: 0.368\n",
      "[0/1] [1469/2500], loss: 1.5855, accyrasy: 0.368\n",
      "[0/1] [1499/2500], loss: 1.5609, accyrasy: 0.3965\n",
      "[0/1] [1529/2500], loss: 1.5549, accyrasy: 0.3755\n",
      "[0/1] [1559/2500], loss: 1.5185, accyrasy: 0.3745\n",
      "[0/1] [1589/2500], loss: 1.5142, accyrasy: 0.412\n",
      "[0/1] [1619/2500], loss: 1.4969, accyrasy: 0.41\n",
      "[0/1] [1649/2500], loss: 1.4937, accyrasy: 0.404\n",
      "[0/1] [1679/2500], loss: 1.4872, accyrasy: 0.382\n",
      "[0/1] [1709/2500], loss: 1.4819, accyrasy: 0.424\n",
      "[0/1] [1739/2500], loss: 1.538, accyrasy: 0.3645\n",
      "[0/1] [1769/2500], loss: 1.4938, accyrasy: 0.4\n",
      "[0/1] [1799/2500], loss: 1.474, accyrasy: 0.3785\n",
      "[0/1] [1829/2500], loss: 1.4692, accyrasy: 0.391\n",
      "[0/1] [1859/2500], loss: 1.4781, accyrasy: 0.4205\n",
      "[0/1] [1889/2500], loss: 1.4463, accyrasy: 0.445\n",
      "[0/1] [1919/2500], loss: 1.464, accyrasy: 0.4185\n",
      "[0/1] [1949/2500], loss: 1.4288, accyrasy: 0.4055\n",
      "[0/1] [1979/2500], loss: 1.4393, accyrasy: 0.3955\n",
      "[0/1] [2009/2500], loss: 1.42, accyrasy: 0.398\n",
      "[0/1] [2039/2500], loss: 1.4001, accyrasy: 0.4425\n",
      "[0/1] [2069/2500], loss: 1.4238, accyrasy: 0.4085\n",
      "[0/1] [2099/2500], loss: 1.4101, accyrasy: 0.4805\n",
      "[0/1] [2129/2500], loss: 1.3797, accyrasy: 0.4765\n",
      "[0/1] [2159/2500], loss: 1.4126, accyrasy: 0.424\n",
      "[0/1] [2189/2500], loss: 1.3711, accyrasy: 0.463\n",
      "[0/1] [2219/2500], loss: 1.3537, accyrasy: 0.4755\n",
      "[0/1] [2249/2500], loss: 1.3366, accyrasy: 0.428\n",
      "[0/1] [2279/2500], loss: 1.3548, accyrasy: 0.4675\n",
      "[0/1] [2309/2500], loss: 1.4072, accyrasy: 0.42\n",
      "[0/1] [2339/2500], loss: 1.3431, accyrasy: 0.491\n",
      "[0/1] [2369/2500], loss: 1.3765, accyrasy: 0.402\n",
      "[0/1] [2399/2500], loss: 1.3641, accyrasy: 0.4885\n",
      "[0/1] [2429/2500], loss: 1.3049, accyrasy: 0.4945\n",
      "[0/1] [2459/2500], loss: 1.3006, accyrasy: 0.4895\n",
      "[0/1] [2489/2500], loss: 1.5261, accyrasy: 0.4185\n"
     ]
    }
   ],
   "source": [
    "num_epochs = 1\n",
    "monit_res = 30\n",
    "for epoch in range(num_epochs):\n",
    "\n",
    "    running_loss = 0.0\n",
    "    for i, batch in enumerate(dataloader):\n",
    "        model.train()\n",
    "        optimizer.zero_grad()\n",
    "        \n",
    "        signal, labels = batch['signal'], batch['open_channels']\n",
    "        signal = signal.to(device).float()\n",
    "        labels = labels.to(device).float()\n",
    "        output = model(signal)\n",
    "        \n",
    "        loss = criterion(output, torch.max(labels, 1)[1])\n",
    "        loss.backward()\n",
    "        optimizer.step()        \n",
    "        \n",
    "        running_loss += loss.item()\n",
    "        \n",
    "        \n",
    "        if i%monit_res == monit_res-1:\n",
    "            model.eval()\n",
    "            predicted_idx = torch.max(output, 1)[1]\n",
    "            true_idx = torch.max(labels, 1)[1]\n",
    "            accurasy = sum(true_idx == predicted_idx).item()/len(true_idx)            \n",
    "            train_accurasy = np.append(train_accurasy, accurasy)\n",
    "\n",
    "            \n",
    "            \n",
    "            train_losses = np.append(train_losses, running_loss/monit_res)\n",
    "            print('[{}/{}] [{}/{}], loss: {}, accyrasy: {}'.format(epoch,\n",
    "                                                     num_epochs,\n",
    "                                                     i,\n",
    "                                                     len(dataloader),\n",
    "                                                     round(running_loss/monit_res, 4),\n",
    "                                                     round(accurasy, 4)\n",
    "                                                    )\n",
    "                 )\n",
    "            running_loss = 0.0"
   ]
  },
  {
   "cell_type": "code",
   "execution_count": 57,
   "metadata": {},
   "outputs": [
    {
     "data": {
      "image/png": "[encoded data removed]",
      "text/plain": [
       "<Figure size 432x288 with 1 Axes>"
      ]
     },
     "metadata": {
      "needs_background": "light"
     },
     "output_type": "display_data"
    }
   ],
   "source": [
    "plt.plot(train_losses)\n",
    "plt.show()"
   ]
  },
  {
   "cell_type": "code",
   "execution_count": 58,
   "metadata": {},
   "outputs": [
    {
     "data": {
      "image/png": "[encoded data removed]",
      "text/plain": [
       "<Figure size 432x288 with 1 Axes>"
      ]
     },
     "metadata": {
      "needs_background": "light"
     },
     "output_type": "display_data"
    }
   ],
   "source": [
    "plt.plot(train_accurasy)\n",
    "plt.show()"
   ]
  },
  {
   "cell_type": "markdown",
   "metadata": {},
   "source": [
    "# Prediction"
   ]
  },
  {
   "cell_type": "code",
   "execution_count": 61,
   "metadata": {},
   "outputs": [
    {
     "name": "stdout",
     "output_type": "stream",
     "text": [
      "[49/1000]\n",
      "[99/1000]\n",
      "[149/1000]\n",
      "[199/1000]\n",
      "[249/1000]\n",
      "[299/1000]\n",
      "[349/1000]\n",
      "[399/1000]\n",
      "[449/1000]\n",
      "[499/1000]\n",
      "[549/1000]\n",
      "[599/1000]\n",
      "[649/1000]\n",
      "[699/1000]\n",
      "[749/1000]\n",
      "[799/1000]\n",
      "[849/1000]\n",
      "[899/1000]\n",
      "[949/1000]\n",
      "[999/1000]\n"
     ]
    }
   ],
   "source": [
    "model.eval()\n",
    "prediction = torch.tensor([]).to(device)\n",
    "for i, batch in enumerate(dataloader_test):\n",
    "    \n",
    "    signal = batch['signal']\n",
    "    signal = signal.to(device).float()\n",
    "    \n",
    "    with torch.no_grad():\n",
    "        output = model(signal)\n",
    "  \n",
    "    \n",
    "    predicted_idx = torch.max(output, 1)[1]\n",
    "    prediction = torch.cat((prediction, predicted_idx.float()), 0)\n",
    "    \n",
    "    if i%50 == 49:\n",
    "        print('[{}/{}]'.format(i, len(dataloader_test)))"
   ]
  },
  {
   "cell_type": "code",
   "execution_count": 64,
   "metadata": {},
   "outputs": [],
   "source": [
    "prediction = prediction.cpu().detach().numpy()"
   ]
  },
  {
   "cell_type": "code",
   "execution_count": 65,
   "metadata": {},
   "outputs": [],
   "source": [
    "np.save('prediction/prediction', prediction)"
   ]
  },
  {
   "cell_type": "code",
   "execution_count": null,
   "metadata": {},
   "outputs": [],
   "source": []
  }
 ],
 "metadata": {
  "kernelspec": {
   "display_name": "Python [conda env:py36]",
   "language": "python",
   "name": "conda-env-py36-py"
  },
  "language_info": {
   "codemirror_mode": {
    "name": "ipython",
    "version": 3
   },
   "file_extension": ".py",
   "mimetype": "text/x-python",
   "name": "python",
   "nbconvert_exporter": "python",
   "pygments_lexer": "ipython3",
   "version": "3.6.9"
  }
 },
 "nbformat": 4,
 "nbformat_minor": 2
}
